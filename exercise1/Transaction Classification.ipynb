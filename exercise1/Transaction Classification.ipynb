{
 "cells": [
  {
   "cell_type": "markdown",
   "metadata": {},
   "source": [
    "# Excercise 1 - Transaction Classification\n",
    "## Imports"
   ]
  },
  {
   "cell_type": "code",
   "execution_count": 70,
   "metadata": {
    "scrolled": true
   },
   "outputs": [],
   "source": [
    "import numpy as np\n",
    "import pandas as pd\n",
    "import matplotlib.pyplot as plt\n",
    "from sklearn.naive_bayes import GaussianNB\n",
    "from sklearn.feature_extraction.text import CountVectorizer\n",
    "from sklearn.preprocessing import LabelEncoder\n",
    "from sklearn.model_selection import train_test_split\n",
    "from sklearn.feature_selection import mutual_info_classif, SelectKBest, f_classif\n",
    "from sklearn.metrics import confusion_matrix\n",
    "from sklearn.metrics import classification_report"
   ]
  },
  {
   "cell_type": "markdown",
   "metadata": {},
   "source": [
    "## Selection of required data & cleaning"
   ]
  },
  {
   "cell_type": "code",
   "execution_count": 134,
   "metadata": {},
   "outputs": [],
   "source": [
    "#read csv data\n",
    "rawData = pd.read_csv('Exercise 1 - Transaction Classification - Data Set.csv', ';')\n",
    "\n",
    "#remove index column - unnamed\n",
    "data = rawData.drop(rawData.columns[0], axis=1)\n",
    "\n",
    "#remove columns with no causality to the labels (see exercise summary)\n",
    "columns = ['Auftragskonto', 'Buchungstag', 'Valutadatum', 'Kontonummer', 'BLZ', 'Waehrung']\n",
    "data.drop(data[columns], axis=1, inplace=True)\n",
    "\n",
    "#lower values of column Buchungstext and Beguenstigter\n",
    "data['Buchungstext'] = data['Buchungstext'].str.lower()\n",
    "data['Beguenstigter/Zahlungspflichtiger'] = data['Beguenstigter/Zahlungspflichtiger'].str.lower()\n",
    "\n",
    "#to cast Betrag as float the , must be replaced with .\n",
    "data['Betrag'].replace(regex=True, inplace=True, to_replace=',', value='.')\n",
    "data['Betrag'] = data['Betrag'].astype('float64')\n",
    "data['BetragVorz'] = data['Betrag'].apply(lambda l: 0 if l < 0 else 1)\n",
    "\n",
    "#stopwords from https://raw.githubusercontent.com/stopwords-iso/stopwords-de/master/stopwords-de.txt\n",
    "stopwords = pd.read_csv('stopwords_german.csv', header=None)\n",
    "\n",
    "#Verwendungszweck - all but alpha-characters and '-' removed, whitespaces inside set to 1,\n",
    "#removed stopwords, and removed words with length smaller than 2\n",
    "data['Verwendungszweck'] = data['Verwendungszweck'].str.lower()\n",
    "data['Verwendungszweck'] = data['Verwendungszweck'].str.replace('[^a-z-]', ' ')\n",
    "data['Verwendungszweck'] = data['Verwendungszweck'].str.replace('\\s+', ' ', regex=True)\n",
    "data['Verwendungszweck'] = data['Verwendungszweck'].apply(lambda l: ' '.join([word for word in l.split() if word not in (stopwords)]))\n",
    "data['Verwendungszweck'] = data['Verwendungszweck'].apply(lambda l: ' '.join([word for word in l.split() if len(word) > 2]))\n",
    "\n",
    "#data.dtypes"
   ]
  },
  {
   "cell_type": "markdown",
   "metadata": {},
   "source": [
    "## Create Feature Vector and train model"
   ]
  },
  {
   "cell_type": "code",
   "execution_count": 172,
   "metadata": {},
   "outputs": [
    {
     "data": {
      "text/plain": [
       "GaussianNB(priors=None, var_smoothing=1e-09)"
      ]
     },
     "execution_count": 172,
     "metadata": {},
     "output_type": "execute_result"
    }
   ],
   "source": [
    "#create array of encoded labels\n",
    "encoder = LabelEncoder()\n",
    "y = encoder.fit_transform(data['label'])\n",
    "\n",
    "#create bag of words from Verwendungszweck\n",
    "vectorizer = CountVectorizer(max_features=200)\n",
    "bow = vectorizer.fit_transform(data['Verwendungszweck']).toarray()\n",
    "\n",
    "#create features from Buchungstext, beguenstigter and betragVorz\n",
    "length = len(y)\n",
    "buchungstext = np.reshape(encoder.fit_transform(data['Buchungstext']), (length, 1))\n",
    "beguenstigter = np.reshape(encoder.fit_transform(data['Beguenstigter/Zahlungspflichtiger']), (length, 1))\n",
    "betragVorz = np.reshape(encoder.fit_transform(data['BetragVorz']), (length, 1))\n",
    "\n",
    "#combine features\n",
    "x = np.concatenate((buchungstext, beguenstigter, betragVorz, bow), axis = 1)\n",
    "\n",
    "#reduce features to shape [_, 100]\n",
    "x_new = SelectKBest(mutual_info_classif, k=100).fit_transform(x, y)\n",
    "\n",
    "#split into train and test data\n",
    "xTrain, xTest, yTrain, yTest = train_test_split(x_new, y, test_size=0.3)\n",
    "\n",
    "#model creation and training\n",
    "model = GaussianNB()\n",
    "model.fit(xTrain, yTrain)"
   ]
  },
  {
   "cell_type": "markdown",
   "metadata": {},
   "source": [
    "## Evaluation - Report"
   ]
  },
  {
   "cell_type": "code",
   "execution_count": 177,
   "metadata": {},
   "outputs": [],
   "source": [
    "#predict the test data set\n",
    "yPred = model.predict(xTest)\n",
    "\n",
    "#create a report with accuracy, precision, recall, f1-score and support for each class\n",
    "classes = ['finance', 'income', 'leisure', 'living', 'private', 'standardOfLiving']\n",
    "report = classification_report(yTest, yPred, target_names=classes)\n",
    "print(report)"
   ]
  },
  {
   "cell_type": "markdown",
   "metadata": {},
   "source": [
    "## Evaluation - Confusion matrix"
   ]
  },
  {
   "cell_type": "code",
   "execution_count": 179,
   "metadata": {},
   "outputs": [
    {
     "data": {
      "image/png": "[encoded data removed]",
      "text/plain": [
       "<Figure size 432x288 with 2 Axes>"
      ]
     },
     "metadata": {
      "needs_background": "light"
     },
     "output_type": "display_data"
    }
   ],
   "source": [
    "#create confusion matrix\n",
    "matrix = confusion_matrix(yTest, yPred)\n",
    "matrix = matrix.astype('float') / matrix.sum(axis=1)[:, np.newaxis]\n",
    "cmap = plt.cm.Greens\n",
    "fig, ax = plt.subplots()\n",
    "im = ax.imshow(matrix, interpolation='nearest', cmap=cmap)\n",
    "ax.figure.colorbar(im, ax=ax)\n",
    "\n",
    "#Set the axis\n",
    "ax.set(xticks=np.arange(matrix.shape[1]), \n",
    "       yticks=np.arange(matrix.shape[0]), \n",
    "       xticklabels=classes, \n",
    "       yticklabels=classes, \n",
    "       title='Transaction Classification', \n",
    "       ylabel='True label', \n",
    "       xlabel='Predicted label')\n",
    "\n",
    "#Rotate classes on x axis\n",
    "plt.setp(ax.get_xticklabels(), rotation=45, ha=\"right\", rotation_mode=\"anchor\")\n",
    "\n",
    "#Text annotations inside the matrix\n",
    "fmt = '.2f'\n",
    "thresh = matrix.max() / 2.\n",
    "for i in range(matrix.shape[0]):\n",
    "    for j in range(matrix.shape[1]):\n",
    "        ax.text(j, i, format(matrix[i, j], fmt), \n",
    "                ha=\"center\", va=\"center\", \n",
    "                color=\"white\" if matrix[i, j] > thresh else \"black\")\n",
    "plt.show()\n",
    "#just for screenshot"
   ]
  }
 ],
 "metadata": {
  "kernelspec": {
   "display_name": "Python 3",
   "language": "python",
   "name": "python3"
  },
  "language_info": {
   "codemirror_mode": {
    "name": "ipython",
    "version": 3
   },
   "file_extension": ".py",
   "mimetype": "text/x-python",
   "name": "python",
   "nbconvert_exporter": "python",
   "pygments_lexer": "ipython3",
   "version": "3.6.7"
  }
 },
 "nbformat": 4,
 "nbformat_minor": 2
}
